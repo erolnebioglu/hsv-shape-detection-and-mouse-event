{
 "cells": [
  {
   "cell_type": "code",
   "execution_count": 1,
   "id": "710641df",
   "metadata": {},
   "outputs": [],
   "source": [
    "import cv2\n",
    "import numpy as np"
   ]
  },
  {
   "cell_type": "code",
   "execution_count": 2,
   "id": "f41d83a5",
   "metadata": {},
   "outputs": [],
   "source": [
    "def nothing(x):\n",
    "    pass"
   ]
  },
  {
   "cell_type": "code",
   "execution_count": 3,
   "id": "b3cc46ef",
   "metadata": {},
   "outputs": [],
   "source": [
    "cap = cv2.VideoCapture(\"hsv.mp4\")"
   ]
  },
  {
   "cell_type": "code",
   "execution_count": 4,
   "id": "ffe85395",
   "metadata": {},
   "outputs": [],
   "source": [
    "cv2.namedWindow(\"trackbar\")"
   ]
  },
  {
   "cell_type": "code",
   "execution_count": 5,
   "id": "7c34bc8d",
   "metadata": {},
   "outputs": [],
   "source": [
    "cv2.createTrackbar(\"lh\",\"trackbar\",0,179,nothing)\n",
    "cv2.createTrackbar(\"ls\",\"trackbar\",0,255,nothing)\n",
    "cv2.createTrackbar(\"lv\",\"trackbar\",0,255,nothing)\n",
    "cv2.createTrackbar(\"uh\",\"trackbar\",0,179,nothing)\n",
    "cv2.createTrackbar(\"us\",\"trackbar\",0,255,nothing)\n",
    "cv2.createTrackbar(\"uv\",\"trackbar\",0,255,nothing)"
   ]
  },
  {
   "cell_type": "code",
   "execution_count": 6,
   "id": "f7210260",
   "metadata": {},
   "outputs": [],
   "source": [
    "while True:\n",
    "    ret,frame=cap.read()\n",
    "    frame = cv2.resize(frame,(500,350))\n",
    "    \n",
    "    hsv = cv2.cvtColor(frame,cv2.COLOR_BGR2HSV)\n",
    "    \n",
    "    lh = cv2.getTrackbarPos(\"lh\",\"trackbar\")\n",
    "    ls = cv2.getTrackbarPos(\"ls\",\"trackbar\")\n",
    "    lv = cv2.getTrackbarPos(\"lv\",\"trackbar\")\n",
    "    uh = cv2.getTrackbarPos(\"uh\",\"trackbar\")\n",
    "    us = cv2.getTrackbarPos(\"us\",\"trackbar\")\n",
    "    uv = cv2.getTrackbarPos(\"uv\",\"trackbar\")\n",
    "    \n",
    "    lower_blue = np.array([lh,ls,lv])\n",
    "    upper_blue = np.array([uh,us,uv])\n",
    "    \n",
    "    mask = cv2.inRange(hsv,lower_blue,upper_blue)\n",
    "    bitwise = cv2.bitwise_and(frame,frame,mask=mask)\n",
    "    \n",
    "    cv2.imshow(\"frame\",frame)\n",
    "    cv2.imshow(\"mask\",mask)\n",
    "    cv2.imshow(\"bitwise\",bitwise)\n",
    "    \n",
    "    if cv2.waitKey(20)&0xFF == ord(\"q\"):\n",
    "        break\n",
    "\n",
    "cap.release()\n",
    "cv2.destroyAllWindows()"
   ]
  },
  {
   "cell_type": "code",
   "execution_count": null,
   "id": "70a38dba",
   "metadata": {},
   "outputs": [],
   "source": []
  },
  {
   "cell_type": "code",
   "execution_count": null,
   "id": "89001346",
   "metadata": {},
   "outputs": [],
   "source": []
  }
 ],
 "metadata": {
  "kernelspec": {
   "display_name": "Python 3 (ipykernel)",
   "language": "python",
   "name": "python3"
  },
  "language_info": {
   "codemirror_mode": {
    "name": "ipython",
    "version": 3
   },
   "file_extension": ".py",
   "mimetype": "text/x-python",
   "name": "python",
   "nbconvert_exporter": "python",
   "pygments_lexer": "ipython3",
   "version": "3.9.18"
  }
 },
 "nbformat": 4,
 "nbformat_minor": 5
}
