{
 "cells": [
  {
   "cell_type": "code",
   "execution_count": 1,
   "id": "2a0fea2c",
   "metadata": {},
   "outputs": [],
   "source": [
    "import cv2\n",
    "import numpy as np"
   ]
  },
  {
   "cell_type": "code",
   "execution_count": 2,
   "id": "73e90070",
   "metadata": {},
   "outputs": [],
   "source": [
    "cap = cv2.VideoCapture(\"car.mp4\")\n",
    "circles = []"
   ]
  },
  {
   "cell_type": "code",
   "execution_count": 3,
   "id": "3942d739",
   "metadata": {},
   "outputs": [],
   "source": [
    "def mouse(event,x,y,flags,params):\n",
    "    \n",
    "    if event == cv2.EVENT_LBUTTONDOWN:\n",
    "        circles.append((x,y))\n",
    "    \n",
    "    "
   ]
  },
  {
   "cell_type": "code",
   "execution_count": 4,
   "id": "fa7aa00c",
   "metadata": {},
   "outputs": [],
   "source": [
    "cv2.namedWindow(\"Frame\")"
   ]
  },
  {
   "cell_type": "code",
   "execution_count": 5,
   "id": "e70fc1be",
   "metadata": {},
   "outputs": [],
   "source": [
    "cv2.setMouseCallback(\"Frame\",mouse)"
   ]
  },
  {
   "cell_type": "code",
   "execution_count": 6,
   "id": "0335c0d9",
   "metadata": {},
   "outputs": [],
   "source": [
    "while True:\n",
    "    ret,frame = cap.read()\n",
    "    frame = cv2.resize(frame,(640,480))\n",
    "    for center in circles:\n",
    "        cv2.circle(frame,center,20,(255,0,0),-1)\n",
    "        \n",
    "    cv2.imshow(\"Frame\",frame)\n",
    "    key = cv2.waitKey(1)\n",
    "    if key==27:\n",
    "        break\n",
    "    elif key == ord(\"h\"):\n",
    "        circles=[]\n",
    "        \n",
    "cap.release()\n",
    "cv2.destroyAllWindows()"
   ]
  },
  {
   "cell_type": "code",
   "execution_count": null,
   "id": "647b70ba",
   "metadata": {},
   "outputs": [],
   "source": []
  }
 ],
 "metadata": {
  "kernelspec": {
   "display_name": "Python 3 (ipykernel)",
   "language": "python",
   "name": "python3"
  },
  "language_info": {
   "codemirror_mode": {
    "name": "ipython",
    "version": 3
   },
   "file_extension": ".py",
   "mimetype": "text/x-python",
   "name": "python",
   "nbconvert_exporter": "python",
   "pygments_lexer": "ipython3",
   "version": "3.9.18"
  }
 },
 "nbformat": 4,
 "nbformat_minor": 5
}
